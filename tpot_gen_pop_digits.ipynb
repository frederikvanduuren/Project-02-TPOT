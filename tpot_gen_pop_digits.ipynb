{
  "nbformat": 4,
  "nbformat_minor": 0,
  "metadata": {
    "colab": {
      "name": "tpot_gen_pop_digits.ipynb",
      "provenance": [],
      "collapsed_sections": [],
      "include_colab_link": true
    },
    "kernelspec": {
      "name": "python3",
      "display_name": "Python 3"
    },
    "accelerator": "GPU"
  },
  "cells": [
    {
      "cell_type": "markdown",
      "metadata": {
        "id": "view-in-github",
        "colab_type": "text"
      },
      "source": [
        "<a href=\"https://colab.research.google.com/github/frederikvanduuren/Project-02-TPOT/blob/master/tpot_gen_pop_digits.ipynb\" target=\"_parent\"><img src=\"https://colab.research.google.com/assets/colab-badge.svg\" alt=\"Open In Colab\"/></a>"
      ]
    },
    {
      "cell_type": "markdown",
      "metadata": {
        "id": "cZkIFQGonLn1",
        "colab_type": "text"
      },
      "source": [
        "## The idea is to search for the sweet spot between looping generations vs populationsize.\n",
        "## Will put the results in a sheet & visualize the potential sweet spot\n",
        "## Will apply the same process onto different dataset in future posts\n",
        "## Also keep track of Best Model!"
      ]
    },
    {
      "cell_type": "markdown",
      "metadata": {
        "id": "7G8XN-1b5ArR",
        "colab_type": "text"
      },
      "source": [
        "NumPy, SciPy, scikit-learn, pandas and joblib can be installed in Anaconda via the command:"
      ]
    },
    {
      "cell_type": "code",
      "metadata": {
        "id": "o0rRYmsM5P6v",
        "colab_type": "code",
        "outputId": "558662d6-7bd4-4967-8173-ad1fc5d40d88",
        "colab": {
          "base_uri": "https://localhost:8080/",
          "height": 176
        }
      },
      "source": [
        "pip install numpy scipy scikit-learn pandas joblib"
      ],
      "execution_count": 0,
      "outputs": [
        {
          "output_type": "stream",
          "text": [
            "Requirement already satisfied: numpy in /usr/local/lib/python3.6/dist-packages (1.16.5)\n",
            "Requirement already satisfied: scipy in /usr/local/lib/python3.6/dist-packages (1.3.1)\n",
            "Requirement already satisfied: scikit-learn in /usr/local/lib/python3.6/dist-packages (0.21.3)\n",
            "Requirement already satisfied: pandas in /usr/local/lib/python3.6/dist-packages (0.24.2)\n",
            "Requirement already satisfied: joblib in /usr/local/lib/python3.6/dist-packages (0.13.2)\n",
            "Requirement already satisfied: pytz>=2011k in /usr/local/lib/python3.6/dist-packages (from pandas) (2018.9)\n",
            "Requirement already satisfied: python-dateutil>=2.5.0 in /usr/local/lib/python3.6/dist-packages (from pandas) (2.5.3)\n",
            "Requirement already satisfied: six>=1.5 in /usr/local/lib/python3.6/dist-packages (from python-dateutil>=2.5.0->pandas) (1.12.0)\n"
          ],
          "name": "stdout"
        }
      ]
    },
    {
      "cell_type": "markdown",
      "metadata": {
        "id": "YjxWQQf45SHI",
        "colab_type": "text"
      },
      "source": [
        "Optionally, you can install XGBoost if you would like TPOT to use the eXtreme Gradient Boosting models. XGBoost is entirely optional, and TPOT will still function normally without XGBoost if you do not have it installed"
      ]
    },
    {
      "cell_type": "code",
      "metadata": {
        "id": "wUFAmX3z5wY_",
        "colab_type": "code",
        "outputId": "4414f852-8197-4595-cbc8-ad3ae0470963",
        "colab": {
          "base_uri": "https://localhost:8080/",
          "height": 69
        }
      },
      "source": [
        "pip install xgboost"
      ],
      "execution_count": 0,
      "outputs": [
        {
          "output_type": "stream",
          "text": [
            "Requirement already satisfied: xgboost in /usr/local/lib/python3.6/dist-packages (0.90)\n",
            "Requirement already satisfied: scipy in /usr/local/lib/python3.6/dist-packages (from xgboost) (1.3.1)\n",
            "Requirement already satisfied: numpy in /usr/local/lib/python3.6/dist-packages (from xgboost) (1.16.5)\n"
          ],
          "name": "stdout"
        }
      ]
    },
    {
      "cell_type": "markdown",
      "metadata": {
        "id": "kX7wApIs53T_",
        "colab_type": "text"
      },
      "source": [
        "Finally to install TPOT itself, run the following command:"
      ]
    },
    {
      "cell_type": "code",
      "metadata": {
        "id": "Yt2OkA0Q55Mu",
        "colab_type": "code",
        "outputId": "2eef8b70-d1fe-4ecd-cbfd-19606086b0b8",
        "colab": {
          "base_uri": "https://localhost:8080/",
          "height": 350
        }
      },
      "source": [
        "pip install tpot"
      ],
      "execution_count": 0,
      "outputs": [
        {
          "output_type": "stream",
          "text": [
            "Requirement already satisfied: tpot in /usr/local/lib/python3.6/dist-packages (0.10.2)\n",
            "Requirement already satisfied: stopit>=1.1.1 in /usr/local/lib/python3.6/dist-packages (from tpot) (1.1.2)\n",
            "Requirement already satisfied: pandas>=0.20.2 in /usr/local/lib/python3.6/dist-packages (from tpot) (0.24.2)\n",
            "Requirement already satisfied: tqdm>=4.26.0 in /usr/local/lib/python3.6/dist-packages (from tpot) (4.28.1)\n",
            "Requirement already satisfied: scikit-learn>=0.18.1 in /usr/local/lib/python3.6/dist-packages (from tpot) (0.21.3)\n",
            "Requirement already satisfied: numpy>=1.12.1 in /usr/local/lib/python3.6/dist-packages (from tpot) (1.16.5)\n",
            "Requirement already satisfied: joblib>=0.10.3 in /usr/local/lib/python3.6/dist-packages (from tpot) (0.13.2)\n",
            "Requirement already satisfied: deap>=1.0 in /usr/local/lib/python3.6/dist-packages (from tpot) (1.3.0)\n",
            "Requirement already satisfied: update-checker>=0.16 in /usr/local/lib/python3.6/dist-packages (from tpot) (0.16)\n",
            "Requirement already satisfied: scipy>=0.19.0 in /usr/local/lib/python3.6/dist-packages (from tpot) (1.3.1)\n",
            "Requirement already satisfied: pytz>=2011k in /usr/local/lib/python3.6/dist-packages (from pandas>=0.20.2->tpot) (2018.9)\n",
            "Requirement already satisfied: python-dateutil>=2.5.0 in /usr/local/lib/python3.6/dist-packages (from pandas>=0.20.2->tpot) (2.5.3)\n",
            "Requirement already satisfied: requests>=2.3.0 in /usr/local/lib/python3.6/dist-packages (from update-checker>=0.16->tpot) (2.21.0)\n",
            "Requirement already satisfied: six>=1.5 in /usr/local/lib/python3.6/dist-packages (from python-dateutil>=2.5.0->pandas>=0.20.2->tpot) (1.12.0)\n",
            "Requirement already satisfied: idna<2.9,>=2.5 in /usr/local/lib/python3.6/dist-packages (from requests>=2.3.0->update-checker>=0.16->tpot) (2.8)\n",
            "Requirement already satisfied: urllib3<1.25,>=1.21.1 in /usr/local/lib/python3.6/dist-packages (from requests>=2.3.0->update-checker>=0.16->tpot) (1.24.3)\n",
            "Requirement already satisfied: certifi>=2017.4.17 in /usr/local/lib/python3.6/dist-packages (from requests>=2.3.0->update-checker>=0.16->tpot) (2019.6.16)\n",
            "Requirement already satisfied: chardet<3.1.0,>=3.0.2 in /usr/local/lib/python3.6/dist-packages (from requests>=2.3.0->update-checker>=0.16->tpot) (3.0.4)\n"
          ],
          "name": "stdout"
        }
      ]
    },
    {
      "cell_type": "markdown",
      "metadata": {
        "id": "wNQa-s0g679H",
        "colab_type": "text"
      },
      "source": [
        "Import TPOTClassifier"
      ]
    },
    {
      "cell_type": "code",
      "metadata": {
        "id": "ctnn5WDr7XSv",
        "colab_type": "code",
        "colab": {}
      },
      "source": [
        "from tpot import TPOTClassifier"
      ],
      "execution_count": 0,
      "outputs": []
    },
    {
      "cell_type": "markdown",
      "metadata": {
        "id": "iEiykeM37Jj-",
        "colab_type": "text"
      },
      "source": [
        "Load and return the digits dataset (classification)."
      ]
    },
    {
      "cell_type": "code",
      "metadata": {
        "id": "YrpJ_G887Vtt",
        "colab_type": "code",
        "colab": {}
      },
      "source": [
        "from sklearn.datasets import load_digits"
      ],
      "execution_count": 0,
      "outputs": []
    },
    {
      "cell_type": "markdown",
      "metadata": {
        "id": "gtwMq0Qe7Jm9",
        "colab_type": "text"
      },
      "source": [
        "Split datasets into random train and test subsets"
      ]
    },
    {
      "cell_type": "code",
      "metadata": {
        "id": "k1QM9_Qs7dPo",
        "colab_type": "code",
        "colab": {}
      },
      "source": [
        "from sklearn.model_selection import train_test_split"
      ],
      "execution_count": 0,
      "outputs": []
    },
    {
      "cell_type": "code",
      "metadata": {
        "id": "GvdQYmaoXdEZ",
        "colab_type": "code",
        "outputId": "d52984ca-51a9-4df2-f4db-28972a41dde7",
        "colab": {
          "base_uri": "https://localhost:8080/",
          "height": 1000
        }
      },
      "source": [
        "\n",
        "import time\n",
        "\n",
        "digits = load_digits() #load the digit dataset\n",
        "\n",
        "# Split datasets into random train and test subsets\n",
        "X_train, X_test, y_train, y_test = train_test_split(digits.data, digits.target,\n",
        "                                                    train_size=0.80, test_size=0.20)\n",
        "\n",
        "gen = [5, 10, 15, 20, 25, 30, 50, 100]\n",
        "pop = [5, 10, 15, 20, 25, 30, 50, 100]\n",
        "\n",
        "for gens in gen:\n",
        "  for pops in pop:\n",
        "    tpot = TPOTClassifier(generations=gens, population_size=pops, verbosity=2)\n",
        "    start = time.time()\n",
        "    print('#generations = ', gens, '#population = ', pops)\n",
        "    tpot.fit(X_train, y_train)\n",
        "    end = time.time()\n",
        "    print('time: ',(end-start))\n",
        "    print('accuracy :', tpot.score(X_test, y_test))\n",
        "    tpot.export('tpot_mnist_like_digits_gens{}_pops{}_{}.py'.format(gens,pops,tpot.score(X_test, y_test)))\n"
      ],
      "execution_count": 0,
      "outputs": [
        {
          "output_type": "stream",
          "text": [
            "#generations =  5 #population =  5\n"
          ],
          "name": "stdout"
        },
        {
          "output_type": "display_data",
          "data": {
            "application/vnd.jupyter.widget-view+json": {
              "model_id": "abd9348286684feab8b142701a9c3674",
              "version_minor": 0,
              "version_major": 2
            },
            "text/plain": [
              "HBox(children=(IntProgress(value=0, description='Optimization Progress', max=30, style=ProgressStyle(descripti…"
            ]
          },
          "metadata": {
            "tags": []
          }
        },
        {
          "output_type": "stream",
          "text": [
            "Generation 1 - Current best internal CV score: 0.9658960216041091\n",
            "Generation 2 - Current best internal CV score: 0.9658960216041091\n",
            "Generation 3 - Current best internal CV score: 0.9658960216041091\n",
            "Generation 4 - Current best internal CV score: 0.9673144085609003\n",
            "Generation 5 - Current best internal CV score: 0.9673144085609003\n",
            "\n",
            "Best pipeline: ExtraTreesClassifier(input_matrix, bootstrap=True, criterion=entropy, max_features=0.6500000000000001, min_samples_leaf=1, min_samples_split=14, n_estimators=100)\n",
            "time:  155.80346179008484\n",
            "accuracy : 0.9666666666666667\n",
            "#generations =  5 #population =  10\n"
          ],
          "name": "stdout"
        },
        {
          "output_type": "display_data",
          "data": {
            "application/vnd.jupyter.widget-view+json": {
              "model_id": "acdf6e2374d54dd29155f9baa964c08c",
              "version_minor": 0,
              "version_major": 2
            },
            "text/plain": [
              "HBox(children=(IntProgress(value=0, description='Optimization Progress', max=60, style=ProgressStyle(descripti…"
            ]
          },
          "metadata": {
            "tags": []
          }
        },
        {
          "output_type": "stream",
          "text": [
            "Generation 1 - Current best internal CV score: 0.9506553541453504\n",
            "Generation 2 - Current best internal CV score: 0.9701095328176429\n",
            "Generation 3 - Current best internal CV score: 0.9715056958445414\n",
            "Generation 4 - Current best internal CV score: 0.9791307926582581\n",
            "Generation 5 - Current best internal CV score: 0.9791307926582581\n",
            "\n",
            "Best pipeline: KNeighborsClassifier(PCA(input_matrix, iterated_power=9, svd_solver=randomized), n_neighbors=9, p=1, weights=uniform)\n",
            "time:  720.112889289856\n",
            "accuracy : 0.9861111111111112\n",
            "#generations =  5 #population =  15\n"
          ],
          "name": "stdout"
        },
        {
          "output_type": "display_data",
          "data": {
            "application/vnd.jupyter.widget-view+json": {
              "model_id": "7ff3b113de5e412c8a07fb705dfd67c5",
              "version_minor": 0,
              "version_major": 2
            },
            "text/plain": [
              "HBox(children=(IntProgress(value=0, description='Optimization Progress', max=90, style=ProgressStyle(descripti…"
            ]
          },
          "metadata": {
            "tags": []
          }
        },
        {
          "output_type": "stream",
          "text": [
            "Generation 1 - Current best internal CV score: 0.9770179778288979\n",
            "Generation 2 - Current best internal CV score: 0.9770179778288979\n",
            "Generation 3 - Current best internal CV score: 0.9798033892221669\n",
            "Generation 4 - Current best internal CV score: 0.9798033892221669\n",
            "Generation 5 - Current best internal CV score: 0.9819112446565732\n",
            "\n",
            "Best pipeline: KNeighborsClassifier(SelectFwe(ExtraTreesClassifier(input_matrix, bootstrap=False, criterion=entropy, max_features=0.2, min_samples_leaf=13, min_samples_split=20, n_estimators=100), alpha=0.03), n_neighbors=1, p=1, weights=distance)\n",
            "time:  428.8748104572296\n",
            "accuracy : 0.975\n"
          ],
          "name": "stdout"
        },
        {
          "output_type": "stream",
          "text": [
            "/usr/local/lib/python3.6/dist-packages/sklearn/feature_selection/univariate_selection.py:721: RuntimeWarning: invalid value encountered in less\n",
            "  return (self.pvalues_ < self.alpha / len(self.pvalues_))\n",
            "/usr/local/lib/python3.6/dist-packages/sklearn/feature_selection/univariate_selection.py:721: RuntimeWarning: invalid value encountered in less\n",
            "  return (self.pvalues_ < self.alpha / len(self.pvalues_))\n"
          ],
          "name": "stderr"
        },
        {
          "output_type": "stream",
          "text": [
            "#generations =  5 #population =  20\n"
          ],
          "name": "stdout"
        },
        {
          "output_type": "display_data",
          "data": {
            "application/vnd.jupyter.widget-view+json": {
              "model_id": "9fa314c008634cf3b0a4c2edbdfe9865",
              "version_minor": 0,
              "version_major": 2
            },
            "text/plain": [
              "HBox(children=(IntProgress(value=0, description='Optimization Progress', max=120, style=ProgressStyle(descript…"
            ]
          },
          "metadata": {
            "tags": []
          }
        },
        {
          "output_type": "stream",
          "text": [
            "Generation 1 - Current best internal CV score: 0.9687177114063961\n",
            "Generation 2 - Current best internal CV score: 0.9707964282503818\n",
            "Generation 3 - Current best internal CV score: 0.9728655804624218\n",
            "Generation 4 - Current best internal CV score: 0.9728655804624218\n",
            "Generation 5 - Current best internal CV score: 0.975628767925798\n",
            "\n",
            "Best pipeline: GradientBoostingClassifier(input_matrix, learning_rate=0.1, max_depth=3, max_features=0.15000000000000002, min_samples_leaf=18, min_samples_split=15, n_estimators=100, subsample=0.35000000000000003)\n",
            "time:  448.85129952430725\n",
            "accuracy : 0.9777777777777777\n",
            "#generations =  5 #population =  25\n"
          ],
          "name": "stdout"
        },
        {
          "output_type": "display_data",
          "data": {
            "application/vnd.jupyter.widget-view+json": {
              "model_id": "fa3447638b814caaa127c8ec6d011155",
              "version_minor": 0,
              "version_major": 2
            },
            "text/plain": [
              "HBox(children=(IntProgress(value=0, description='Optimization Progress', max=150, style=ProgressStyle(descript…"
            ]
          },
          "metadata": {
            "tags": []
          }
        },
        {
          "output_type": "stream",
          "text": [
            "Generation 1 - Current best internal CV score: 0.9860755737734372\n",
            "Generation 2 - Current best internal CV score: 0.9860755737734372\n",
            "Generation 3 - Current best internal CV score: 0.9860755737734372\n",
            "Generation 4 - Current best internal CV score: 0.986794386767907\n",
            "Generation 5 - Current best internal CV score: 0.986794386767907\n",
            "\n",
            "Best pipeline: LogisticRegression(PolynomialFeatures(MaxAbsScaler(input_matrix), degree=2, include_bias=False, interaction_only=False), C=5.0, dual=False, penalty=l2)\n",
            "time:  1594.4314622879028\n",
            "accuracy : 0.9861111111111112\n",
            "#generations =  5 #population =  30\n"
          ],
          "name": "stdout"
        },
        {
          "output_type": "display_data",
          "data": {
            "application/vnd.jupyter.widget-view+json": {
              "model_id": "3ccdb0fcf70c4702a1e5dd1a97458746",
              "version_minor": 0,
              "version_major": 2
            },
            "text/plain": [
              "HBox(children=(IntProgress(value=0, description='Optimization Progress', max=180, style=ProgressStyle(descript…"
            ]
          },
          "metadata": {
            "tags": []
          }
        },
        {
          "output_type": "stream",
          "text": [
            "Generation 1 - Current best internal CV score: 0.977714978746343\n",
            "Generation 2 - Current best internal CV score: 0.9826397705145167\n",
            "Generation 3 - Current best internal CV score: 0.9826397705145167\n",
            "Generation 4 - Current best internal CV score: 0.9826397705145167\n",
            "Generation 5 - Current best internal CV score: 0.9826397705145167\n",
            "\n",
            "Best pipeline: KNeighborsClassifier(input_matrix, n_neighbors=2, p=2, weights=distance)\n",
            "time:  988.7527179718018\n",
            "accuracy : 0.9777777777777777\n",
            "#generations =  5 #population =  50\n"
          ],
          "name": "stdout"
        },
        {
          "output_type": "display_data",
          "data": {
            "application/vnd.jupyter.widget-view+json": {
              "model_id": "7ebdfad4ed4947fb8af8f00546b0e2c4",
              "version_minor": 0,
              "version_major": 2
            },
            "text/plain": [
              "HBox(children=(IntProgress(value=0, description='Optimization Progress', max=300, style=ProgressStyle(descript…"
            ]
          },
          "metadata": {
            "tags": []
          }
        }
      ]
    },
    {
      "cell_type": "markdown",
      "metadata": {
        "id": "rkUUtwWfnHZn",
        "colab_type": "text"
      },
      "source": [
        "# Conclusion\n",
        "## The Sweet Spot seems to be where Gen*Pop <= 400\n",
        "## Most Common Classifier is \t\tKNeighborsClassifier"
      ]
    },
    {
      "cell_type": "markdown",
      "metadata": {
        "id": "W575uonznkVP",
        "colab_type": "text"
      },
      "source": [
        "Generations\t\t\t\t\t\t\t\t\n",
        "50\t97.78%\t98.89%\t98.61%\t98.89%\t98.33%\t98.33%\t98.33%\t\n",
        "30\t98.61%\t98.89%\t99.44%\t99.17%\t98.89%\t98.61%\t99.17%\t\n",
        "25\t98.61%\t99.77%\t99.17%\t98.61%\t98.61%\t99.44%\t99.17%\t\n",
        "20\t97.78%\t98.06%\t98.61%\t98.89%\t98.89%\t98.61%\t98.89%\t\n",
        "15\t97.50%\t98.06%\t98.61%\t99.44%\t98.89%\t98.61%\t98.33%\t\n",
        "10\t98.33%\t98.61%\t97.78%\t98.33%\t98.61%\t99.17%\t98.89%\t\n",
        "5\t  96.39%\t95.28%\t97.78%\t98.61%\t98.89%\t98.89%\t97.78%\t\n",
        "\t  5\t      10\t    15\t    20\t    25\t    30\t    50\t   Population"
      ]
    },
    {
      "cell_type": "markdown",
      "metadata": {
        "id": "i5pBQeiinyj9",
        "colab_type": "text"
      },
      "source": [
        "Generations\t\t\t\t\t\t\t\t\n",
        "50\tKNeighborsClassifier\tKNeighborsClassifier\tKNeighborsClassifier\tExtraTreesClassifier\tExtraTreesClassifier\tExtraTreesClassifier\tKNeighborsClassifier\t\n",
        "30\tLogisticRegression\tLogisticRegression\tLinearSVC\tLogisticRegression\tExtraTreesClassifier\tKNeighborsClassifier\tKNeighborsClassifier\t\n",
        "25\tKNeighborsClassifier\tKNeighborsClassifier\tGradientBoostingClassifier\tLogisticRegression\tLogisticRegression\tKNeighborsClassifier\tLogisticRegression\t\n",
        "20\tKNeighborsClassifier\tKNeighborsClassifier\tKNeighborsClassifier\tLinearSVC\tKNeighborsClassifier\tKNeighborsClassifier\tExtraTreesClassifier\t\n",
        "15\tKNeighborsClassifier\tLogisticRegression\tLogisticRegression\tLinearSVC\tKNeighborsClassifier\tKNeighborsClassifier\tLinearSVC\t\n",
        "10\tLinearSVC\tKNeighborsClassifier\tExtraTreesClassifier\tExtraTreesClassifier\tExtraTreesClassifier\tLogisticRegression\tKNeighborsClassifier\t\n",
        "5\tLogisticRegression\tLogisticRegression\tExtraTreesClassifier\tLogisticRegression\tKNeighborsClassifier\tKNeighborsClassifier\tKNeighborsClassifier\t\n",
        "\t5\t10\t15\t20\t25\t30\t50\tPopulation"
      ]
    },
    {
      "cell_type": "markdown",
      "metadata": {
        "id": "Hiv2jb8on3Q_",
        "colab_type": "text"
      },
      "source": [
        "## Count\n",
        "### LinearSVC\t5\n",
        "## KNeighborsClassifier\t22\n",
        "## LogisticRegression\t12\n",
        "## GradientBoostingClassifier\t1\n",
        "## ExtraTreesClassifier\t9"
      ]
    }
  ]
}